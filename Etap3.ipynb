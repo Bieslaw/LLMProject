{
 "cells": [
  {
   "cell_type": "code",
   "execution_count": 1,
   "metadata": {},
   "outputs": [
    {
     "data": {
      "text/html": [
       "<div>\n",
       "<style scoped>\n",
       "    .dataframe tbody tr th:only-of-type {\n",
       "        vertical-align: middle;\n",
       "    }\n",
       "\n",
       "    .dataframe tbody tr th {\n",
       "        vertical-align: top;\n",
       "    }\n",
       "\n",
       "    .dataframe thead th {\n",
       "        text-align: right;\n",
       "    }\n",
       "</style>\n",
       "<table border=\"1\" class=\"dataframe\">\n",
       "  <thead>\n",
       "    <tr style=\"text-align: right;\">\n",
       "      <th></th>\n",
       "      <th>target</th>\n",
       "      <th>text</th>\n",
       "    </tr>\n",
       "  </thead>\n",
       "  <tbody>\n",
       "    <tr>\n",
       "      <th>0</th>\n",
       "      <td>0</td>\n",
       "      <td>@switchfoot http://twitpic.com/2y1zl - Awww, t...</td>\n",
       "    </tr>\n",
       "    <tr>\n",
       "      <th>1</th>\n",
       "      <td>0</td>\n",
       "      <td>is upset that he can't update his Facebook by ...</td>\n",
       "    </tr>\n",
       "    <tr>\n",
       "      <th>2</th>\n",
       "      <td>0</td>\n",
       "      <td>@Kenichan I dived many times for the ball. Man...</td>\n",
       "    </tr>\n",
       "    <tr>\n",
       "      <th>3</th>\n",
       "      <td>0</td>\n",
       "      <td>my whole body feels itchy and like its on fire</td>\n",
       "    </tr>\n",
       "    <tr>\n",
       "      <th>4</th>\n",
       "      <td>0</td>\n",
       "      <td>@nationwideclass no, it's not behaving at all....</td>\n",
       "    </tr>\n",
       "  </tbody>\n",
       "</table>\n",
       "</div>"
      ],
      "text/plain": [
       "   target                                               text\n",
       "0       0  @switchfoot http://twitpic.com/2y1zl - Awww, t...\n",
       "1       0  is upset that he can't update his Facebook by ...\n",
       "2       0  @Kenichan I dived many times for the ball. Man...\n",
       "3       0    my whole body feels itchy and like its on fire \n",
       "4       0  @nationwideclass no, it's not behaving at all...."
      ]
     },
     "execution_count": 1,
     "metadata": {},
     "output_type": "execute_result"
    }
   ],
   "source": [
    "import pandas as pd\n",
    "import numpy as np\n",
    "import string \n",
    "\n",
    "df = pd.read_csv('training.1600000.processed.noemoticon.csv', sep=',', encoding='latin-1',  header=None)\n",
    "df.columns = [\"target\",\"ids\",\"date\",\"flag\",\"user\",\"text\"]\n",
    "df = df.drop([\"ids\",\"date\",\"flag\",\"user\"], axis = 1)\n",
    "df.head()\n"
   ]
  },
  {
   "cell_type": "markdown",
   "metadata": {},
   "source": [
    "### Zaawansowane przetwarzanie i czyszczenie danych (2 pkt)\n",
    "- Wykorzystanie technik takich jak lematyzacja, stemming, uwzględnienie negacji.\n",
    "- Obsługa emotikonów, skrótów, błędów ortograficznych."
   ]
  },
  {
   "cell_type": "code",
   "execution_count": 2,
   "metadata": {},
   "outputs": [
    {
     "name": "stderr",
     "output_type": "stream",
     "text": [
      "C:\\Users\\jakuw\\AppData\\Local\\Temp\\ipykernel_53316\\4063546147.py:12: ParserWarning: Falling back to the 'python' engine because the 'c' engine does not support regex separators (separators > 1 char and different from '\\s+' are interpreted as regex); you can avoid this warning by specifying engine='python'.\n",
      "  misspelled_words = pd.read_csv('misspelled_words.txt',sep='->')\n"
     ]
    }
   ],
   "source": [
    "import spacy\n",
    "from nltk.tokenize.casual import EMOTICON_RE\n",
    "import re\n",
    "\n",
    "nlp = spacy.load(\"en_core_web_sm\", disable=[\"parser\", \"ner\", \"textcat\"])\n",
    "\n",
    "stop_words = pd.read_csv('stop_words.txt')\n",
    "stop_words = stop_words.loc[:,'word'].tolist()\n",
    "stopwords_simple = [word.replace(\"'\", \"\") for word in stop_words]\n",
    "stop_words = set(stop_words + stopwords_simple)\n",
    "\n",
    "misspelled_words = pd.read_csv('misspelled_words.txt',sep='->')\n",
    "misspelled_words = dict(zip(misspelled_words['miss'], misspelled_words['target']))\n",
    "\n",
    "def replace_consecutive_chars(s):\n",
    "    # Replace more than 3 consecutive '.' with exactly 3 of the same character\n",
    "    s = re.sub(r'([\\.])\\1{2,}', r'\\1\\1\\1', s)\n",
    "    \n",
    "    # Replace sequences of '!' and '?' with just one '!' or '?' respectively\n",
    "    s = re.sub(r'[!?]+(?:\\s*[!?]+)*', lambda m: m.group(0)[0], s)  # Replace with just the first character\n",
    "    \n",
    "    return s\n",
    "\n",
    "def preprocess_text(text):\n",
    "    # Filter out misspelled words\n",
    "    text = replace_consecutive_chars(text)\n",
    "    words = text.split()\n",
    "    words = [misspelled_words[word.lower()] if word.lower() in misspelled_words else word for word in words]\n",
    "    doc = nlp(' '.join(words))\n",
    "    # Tokenize, lemmatize, and filter out punctuation, special characters, lowercase\n",
    "    # Preserve emoticons\n",
    " \n",
    "    # Feature engineering\n",
    "    word_count = len([t for t in doc if not t.is_punct])\n",
    "    avg_word_length = sum(len(t.text) for t in doc) / word_count if word_count else 0\n",
    "    pos_counts = {pos: 0 for pos in [\"NOUN\", \"VERB\", \"ADJ\", \"ADV\", \"PRON\", \"CCONJ\", \"ADP\", \"PROPN\", \"PUNCT\"]}\n",
    "    for token in doc:\n",
    "        if token.pos_ in pos_counts:\n",
    "            pos_counts[token.pos_] += 1\n",
    "\n",
    "    words = [token.lemma_.lower() for token in doc if \n",
    "             (token.lemma_.isalpha() and token.lemma_.isascii() and not token.is_punct)\n",
    "             or EMOTICON_RE.match(token.text) or token.text in ['!', '?', '...']]\n",
    "    # Remove stopwords nicknames and links\n",
    "    words = [word for word in words if word not in stop_words] \n",
    "    words = [word for word in words if not word.startswith(('@', 'http', 'https', 'www.'))]\n",
    "    return {\n",
    "        \"tokens\": words,\n",
    "        **{f\"freq_{pos.lower()}\": pos_counts[pos] / word_count if word_count else 0 for pos in pos_counts},\n",
    "        \"avg_word_length\": avg_word_length,\n",
    "    }"
   ]
  },
  {
   "cell_type": "code",
   "execution_count": 3,
   "metadata": {},
   "outputs": [
    {
     "name": "stderr",
     "output_type": "stream",
     "text": [
      "c:\\Users\\jakuw\\AppData\\Local\\Programs\\Python\\Python312\\Lib\\site-packages\\tqdm\\auto.py:21: TqdmWarning: IProgress not found. Please update jupyter and ipywidgets. See https://ipywidgets.readthedocs.io/en/stable/user_install.html\n",
      "  from .autonotebook import tqdm as notebook_tqdm\n"
     ]
    },
    {
     "name": "stdout",
     "output_type": "stream",
     "text": [
      "Loading saved file\n"
     ]
    },
    {
     "data": {
      "text/html": [
       "<div>\n",
       "<style scoped>\n",
       "    .dataframe tbody tr th:only-of-type {\n",
       "        vertical-align: middle;\n",
       "    }\n",
       "\n",
       "    .dataframe tbody tr th {\n",
       "        vertical-align: top;\n",
       "    }\n",
       "\n",
       "    .dataframe thead th {\n",
       "        text-align: right;\n",
       "    }\n",
       "</style>\n",
       "<table border=\"1\" class=\"dataframe\">\n",
       "  <thead>\n",
       "    <tr style=\"text-align: right;\">\n",
       "      <th></th>\n",
       "      <th>target</th>\n",
       "      <th>tokens</th>\n",
       "      <th>freq_noun</th>\n",
       "      <th>freq_verb</th>\n",
       "      <th>freq_adj</th>\n",
       "      <th>freq_adv</th>\n",
       "      <th>freq_pron</th>\n",
       "      <th>freq_cconj</th>\n",
       "      <th>freq_adp</th>\n",
       "      <th>freq_propn</th>\n",
       "      <th>freq_punct</th>\n",
       "      <th>avg_word_length</th>\n",
       "    </tr>\n",
       "  </thead>\n",
       "  <tbody>\n",
       "    <tr>\n",
       "      <th>0</th>\n",
       "      <td>0</td>\n",
       "      <td>[awww, bummer, you, shoulda, get, david, carr,...</td>\n",
       "      <td>0.105263</td>\n",
       "      <td>0.105263</td>\n",
       "      <td>0.000000</td>\n",
       "      <td>0.000000</td>\n",
       "      <td>0.105263</td>\n",
       "      <td>0.000000</td>\n",
       "      <td>0.052632</td>\n",
       "      <td>0.315789</td>\n",
       "      <td>0.263158</td>\n",
       "      <td>5.052632</td>\n",
       "    </tr>\n",
       "    <tr>\n",
       "      <th>1</th>\n",
       "      <td>0</td>\n",
       "      <td>[upset, he, can, not, update, his, facebook, t...</td>\n",
       "      <td>0.090909</td>\n",
       "      <td>0.136364</td>\n",
       "      <td>0.045455</td>\n",
       "      <td>0.045455</td>\n",
       "      <td>0.136364</td>\n",
       "      <td>0.045455</td>\n",
       "      <td>0.090909</td>\n",
       "      <td>0.090909</td>\n",
       "      <td>0.136364</td>\n",
       "      <td>4.090909</td>\n",
       "    </tr>\n",
       "    <tr>\n",
       "      <th>2</th>\n",
       "      <td>0</td>\n",
       "      <td>[dive, many, time, ball, manage, save, rest, g...</td>\n",
       "      <td>0.277778</td>\n",
       "      <td>0.222222</td>\n",
       "      <td>0.055556</td>\n",
       "      <td>0.000000</td>\n",
       "      <td>0.055556</td>\n",
       "      <td>0.000000</td>\n",
       "      <td>0.166667</td>\n",
       "      <td>0.055556</td>\n",
       "      <td>0.055556</td>\n",
       "      <td>3.944444</td>\n",
       "    </tr>\n",
       "    <tr>\n",
       "      <th>3</th>\n",
       "      <td>0</td>\n",
       "      <td>[my, whole, body, feel, itchy, and, like, its,...</td>\n",
       "      <td>0.200000</td>\n",
       "      <td>0.100000</td>\n",
       "      <td>0.200000</td>\n",
       "      <td>0.000000</td>\n",
       "      <td>0.200000</td>\n",
       "      <td>0.100000</td>\n",
       "      <td>0.200000</td>\n",
       "      <td>0.000000</td>\n",
       "      <td>0.000000</td>\n",
       "      <td>3.700000</td>\n",
       "    </tr>\n",
       "    <tr>\n",
       "      <th>4</th>\n",
       "      <td>0</td>\n",
       "      <td>[no, not, behave, all, mad, why, here, ?, beca...</td>\n",
       "      <td>0.000000</td>\n",
       "      <td>0.125000</td>\n",
       "      <td>0.041667</td>\n",
       "      <td>0.250000</td>\n",
       "      <td>0.208333</td>\n",
       "      <td>0.000000</td>\n",
       "      <td>0.000000</td>\n",
       "      <td>0.000000</td>\n",
       "      <td>0.208333</td>\n",
       "      <td>3.750000</td>\n",
       "    </tr>\n",
       "  </tbody>\n",
       "</table>\n",
       "</div>"
      ],
      "text/plain": [
       "   target                                             tokens  freq_noun  \\\n",
       "0       0  [awww, bummer, you, shoulda, get, david, carr,...   0.105263   \n",
       "1       0  [upset, he, can, not, update, his, facebook, t...   0.090909   \n",
       "2       0  [dive, many, time, ball, manage, save, rest, g...   0.277778   \n",
       "3       0  [my, whole, body, feel, itchy, and, like, its,...   0.200000   \n",
       "4       0  [no, not, behave, all, mad, why, here, ?, beca...   0.000000   \n",
       "\n",
       "   freq_verb  freq_adj  freq_adv  freq_pron  freq_cconj  freq_adp  freq_propn  \\\n",
       "0   0.105263  0.000000  0.000000   0.105263    0.000000  0.052632    0.315789   \n",
       "1   0.136364  0.045455  0.045455   0.136364    0.045455  0.090909    0.090909   \n",
       "2   0.222222  0.055556  0.000000   0.055556    0.000000  0.166667    0.055556   \n",
       "3   0.100000  0.200000  0.000000   0.200000    0.100000  0.200000    0.000000   \n",
       "4   0.125000  0.041667  0.250000   0.208333    0.000000  0.000000    0.000000   \n",
       "\n",
       "   freq_punct  avg_word_length  \n",
       "0    0.263158         5.052632  \n",
       "1    0.136364         4.090909  \n",
       "2    0.055556         3.944444  \n",
       "3    0.000000         3.700000  \n",
       "4    0.208333         3.750000  "
      ]
     },
     "execution_count": 3,
     "metadata": {},
     "output_type": "execute_result"
    }
   ],
   "source": [
    "import os.path\n",
    "import swifter\n",
    "fname = 'tokenized.gzip'\n",
    "if os.path.isfile(fname):\n",
    "    print(\"Loading saved file\")\n",
    "    df = pd.read_pickle('tokenized.gzip', compression='gzip')\n",
    "else:\n",
    "    print(\"Preprocessing text\")\n",
    "    features = pd.DataFrame(df['text'].swifter.apply(lambda x: preprocess_text(x)).tolist(), index=df.index)\n",
    "    df.loc[df['target'] == 4, 'target'] = 1\n",
    "    df = pd.concat([df,features],axis=1)\n",
    "    df = df.drop(columns=['text'])\n",
    "    # Save to file\n",
    "    df.to_pickle('tokenized.gzip',\n",
    "                compression='gzip') \n",
    "df.head()"
   ]
  },
  {
   "cell_type": "code",
   "execution_count": 4,
   "metadata": {},
   "outputs": [
    {
     "data": {
      "text/plain": [
       "<matplotlib.image.AxesImage at 0x17f2013b0b0>"
      ]
     },
     "execution_count": 4,
     "metadata": {},
     "output_type": "execute_result"
    },
    {
     "data": {
      "image/png": "[encoded data removed]",
      "text/plain": [
       "<Figure size 640x480 with 2 Axes>"
      ]
     },
     "metadata": {},
     "output_type": "display_data"
    }
   ],
   "source": [
    "from wordcloud import WordCloud\n",
    "from matplotlib.pyplot import subplots\n",
    "positive_words = [word for words in df.loc[df['target'] == 1, 'tokens'].values.tolist() for word in words]\n",
    "negative_words = [word for words in df.loc[df['target'] == 0, 'tokens'].values.tolist() for word in words]\n",
    "pos_wc = WordCloud(max_words=100, width=1600, height=800, collocations=False).generate(' '.join(positive_words))\n",
    "neg_wc = WordCloud(max_words=100, width=1600, height=800, collocations=False).generate(' '.join(negative_words))\n",
    "\n",
    "fig, ax = subplots(nrows=2, ncols=1)\n",
    "ax[0].imshow(pos_wc)\n",
    "ax[1].imshow(neg_wc)"
   ]
  },
  {
   "cell_type": "markdown",
   "metadata": {},
   "source": [
    "### Inżynieria cech i reprezentacja tekstu (1,5 pkt)\n",
    "- Wykorzystanie embeddingu słów GloVe.\n",
    "- Tworzenie dodatkowych cech: analiza części mowy, średnia długośc słów (podczas przetwarzania danych)"
   ]
  },
  {
   "cell_type": "code",
   "execution_count": 5,
   "metadata": {},
   "outputs": [],
   "source": [
    "from sklearn.model_selection import train_test_split\n",
    "train_df, test_df = train_test_split(df, test_size=0.3, random_state = 0)"
   ]
  },
  {
   "cell_type": "markdown",
   "metadata": {},
   "source": [
    "Wektoryzacja "
   ]
  },
  {
   "cell_type": "code",
   "execution_count": 6,
   "metadata": {},
   "outputs": [],
   "source": [
    "import os\n",
    "\n",
    "# Only the TensorFlow backend supports string inputs.\n",
    "os.environ[\"KERAS_BACKEND\"] = \"tensorflow\"\n",
    "\n",
    "import pathlib\n",
    "import numpy as np\n",
    "import tensorflow.data as tf_data\n",
    "import keras\n",
    "from keras import layers\n",
    "from keras.layers import Embedding"
   ]
  },
  {
   "cell_type": "code",
   "execution_count": 7,
   "metadata": {},
   "outputs": [
    {
     "name": "stdout",
     "output_type": "stream",
     "text": [
      "39\n"
     ]
    }
   ],
   "source": [
    "max_length = train_df['tokens'].apply(len).max().item()\n",
    "print(max_length)\n",
    "vectorizer = layers.TextVectorization(max_tokens=20000, output_sequence_length=max_length)\n",
    "text_ds = tf_data.Dataset.from_tensor_slices(train_df['tokens'].apply(lambda x: ' '.join(x)).tolist()).batch(128)\n",
    "vectorizer.adapt(text_ds)\n",
    "voc = vectorizer.get_vocabulary()\n",
    "word_index = dict(zip(voc,range(len(voc))))"
   ]
  },
  {
   "cell_type": "code",
   "execution_count": 8,
   "metadata": {},
   "outputs": [
    {
     "name": "stdout",
     "output_type": "stream",
     "text": [
      "Found 1193514 word vectors.\n"
     ]
    }
   ],
   "source": [
    "# Glove embedding\n",
    "# Download https://nlp.stanford.edu/data/glove.twitter.27B.zip \n",
    "# and extract glove.twitter.27B.100d.txt file\n",
    "path_to_glove_file = \"glove.twitter.27B.100d.txt\"\n",
    "\n",
    "embeddings_index = {}\n",
    "with open(path_to_glove_file, encoding=\"utf8\") as f:\n",
    "    for line in f:\n",
    "        word, coefs = line.split(maxsplit=1)\n",
    "        coefs = np.fromstring(coefs, \"f\", sep=\" \")\n",
    "        embeddings_index[word] = coefs\n",
    "\n",
    "print(\"Found %s word vectors.\" % len(embeddings_index))"
   ]
  },
  {
   "cell_type": "code",
   "execution_count": 9,
   "metadata": {},
   "outputs": [
    {
     "name": "stdout",
     "output_type": "stream",
     "text": [
      "Converted 19201 words (799 misses)\n"
     ]
    }
   ],
   "source": [
    "num_tokens = len(voc) + 2\n",
    "embedding_dim = 100\n",
    "hits = 0\n",
    "misses = 0\n",
    "missed = []\n",
    "# Prepare embedding matrix\n",
    "embedding_matrix = np.zeros((num_tokens, embedding_dim))\n",
    "for word, i in word_index.items():\n",
    "    embedding_vector = embeddings_index.get(word)\n",
    "    if embedding_vector is not None:\n",
    "        # Words not found in embedding index will be all-zeros.\n",
    "        # This includes the representation for \"padding\" and \"OOV\"\n",
    "        embedding_matrix[i] = embedding_vector\n",
    "        hits += 1\n",
    "    else:\n",
    "        missed.append(word)\n",
    "        misses += 1\n",
    "print(\"Converted %d words (%d misses)\" % (hits, misses))"
   ]
  },
  {
   "cell_type": "markdown",
   "metadata": {},
   "source": [
    "### Implementacja zaawansowanego modelu (2 pkt)\n",
    "- Zastosowanie modeli takich jak sieci neuronowe (LSTM, CNN) lub transformatorów (BERT).\n",
    "- Uzasadnienie wyboru modelu i opis architektury."
   ]
  },
  {
   "cell_type": "markdown",
   "metadata": {},
   "source": [
    "### Uzasadnienie architektury CNN\n",
    "\n",
    "1. **Warstwa Embedding**: \n",
    "   - Służy do zamiany sekwencji indeksów słów na wektory osadzenia (embedding vectors), co pozwala na reprezentację semantyczną słów.\n",
    "   - Wykorzystuje wstępnie wytrenowaną macierz osadzeń (`embedding_matrix`).\n",
    "\n",
    "2. **Warstwy Conv1D**:\n",
    "   - Wykrywają lokalne wzorce w sekwencjach (np. n-gramy).\n",
    "   - Aktywacja `ReLU` wprowadza nieliniowość, umożliwiając modelowi naukę złożonych reprezentacji.\n",
    "\n",
    "3. **MaxPooling1D**:\n",
    "   - Redukuje rozmiar danych, zachowując najistotniejsze cechy, zapobiegając nadmiernemu dopasowaniu.\n",
    "\n",
    "4. **GlobalMaxPooling1D**:\n",
    "   - Wydobywa najważniejszą cechę z całej sekwencji, co jest przydatne w klasyfikacji tekstów.\n",
    "\n",
    "5. **Warstwa Dense**:\n",
    "   - Przekształca reprezentacje w bardziej złożone cechy.\n",
    "   - `ReLU` wprowadza nieliniowość.\n",
    "\n",
    "6. **Dropout**:\n",
    "   - Zapobiega nadmiernemu dopasowaniu (overfitting), poprawiając generalizację modelu.\n",
    "\n",
    "7. **Wyjście**:\n",
    "   - Warstwa `sigmoid` służy do klasyfikacji binarnej, generując wynik w przedziale [0, 1].\n",
    "\n",
    "8. **Kompilacja**:\n",
    "   - Funkcja straty: `binary_crossentropy` (klasyfikacja binarna).\n",
    "   - Optymalizator: `RMSprop`, często stosowany w zadaniach NLP.\n"
   ]
  },
  {
   "cell_type": "markdown",
   "metadata": {},
   "source": [
    "### Optymalizacja i tuning hiperparametrów (1 pkt)\n",
    "- Przeprowadzenie tuningu hiperparametrów Random Search.\n",
    "- Uzasadnienie wyboru optymalnych parametrów."
   ]
  },
  {
   "cell_type": "code",
   "execution_count": 10,
   "metadata": {},
   "outputs": [],
   "source": [
    "from sklearn.preprocessing import StandardScaler\n",
    "scaler = StandardScaler()\n",
    "\n",
    "# preprocessing with standarization\n",
    "def getX(df, train:bool):\n",
    "    df2 = df.iloc[:,3:]\n",
    "    vect_data = vectorizer(\n",
    "        np.array(df[\"tokens\"].apply(lambda x: [\" \".join(x)]).tolist())\n",
    "    ).numpy()\n",
    "    if train:\n",
    "        scaled_df2 = scaler.fit_transform(df2)\n",
    "    else:\n",
    "        scaled_df2 = scaler.transform(df2)\n",
    "    feat_data = np.zeros(vect_data.shape)\n",
    "    feat_data[:, : df2.shape[1]] = scaled_df2\n",
    "    stacked = np.stack([vect_data, feat_data], axis=2)\n",
    "    return stacked\n",
    "\n",
    "\n",
    "x_train = getX(train_df, True)\n",
    "x_test = getX(test_df, False)\n",
    "\n",
    "y_train = train_df[\"target\"].to_numpy()\n",
    "y_test = test_df[\"target\"].to_numpy()"
   ]
  },
  {
   "cell_type": "code",
   "execution_count": 11,
   "metadata": {},
   "outputs": [],
   "source": [
    "import os\n",
    "import keras\n",
    "from keras import layers\n",
    "from keras.models import Model\n",
    "from keras.layers import Embedding\n",
    "from sklearn.model_selection import RandomizedSearchCV\n",
    "from scikeras.wrappers import KerasClassifier\n",
    "import numpy as np\n",
    "import tensorflow as tf\n",
    "\n",
    "# Custom function to merge inputs\n",
    "def prepare_inputs(x_embedding, x_features):\n",
    "    return [np.array(x_embedding), np.array(x_features)]\n",
    "\n",
    "from scikeras.wrappers import KerasClassifier\n",
    "from keras.saving import register_keras_serializable\n",
    "\n",
    "input_shape = (x_train.shape[1],x_train.shape[2])\n",
    "additional_features_size = df.iloc[:,2:].shape[1]\n",
    "\n",
    "@register_keras_serializable()\n",
    "def extract_vector_input(x):\n",
    "    return x[:,:,0]\n",
    "@register_keras_serializable()\n",
    "def extract_feature_input(x):\n",
    "    return x[:,:additional_features_size,1]\n",
    "\n",
    "# Definicja funkcji do stworzenia modelu\n",
    "def create_model(filters, kernel_size, dense_units, dropout_rate,features_dense_units):\n",
    "    embedding_layer = Embedding(\n",
    "        num_tokens,\n",
    "        embedding_dim,\n",
    "        trainable=False,\n",
    "    )\n",
    "    embedding_layer.build((1,))\n",
    "    embedding_layer.set_weights([embedding_matrix])\n",
    "\n",
    "    # Combined input\n",
    "    combi_input = layers.Input(input_shape) \n",
    "    vectors = layers.Lambda(extract_vector_input, name=\"lambda_1\")(combi_input) \n",
    "    embedded_sequences = embedding_layer(vectors)\n",
    "    x = layers.Conv1D(filters, kernel_size, activation=\"relu\")(embedded_sequences)\n",
    "    x = layers.MaxPooling1D(2)(x)\n",
    "    x = layers.Conv1D(filters, kernel_size, activation=\"relu\")(x)\n",
    "    x = layers.MaxPooling1D(2)(x)\n",
    "    x = layers.Conv1D(filters, kernel_size, activation=\"relu\")(x)\n",
    "    x = layers.GlobalMaxPooling1D()(x)\n",
    "        # Additional feature input\n",
    "    additional_features_input = layers.Lambda(extract_feature_input, name=\"lambda_2\")(combi_input)\n",
    "    y = layers.Dense(features_dense_units, activation=\"relu\")(additional_features_input)\n",
    "    y = layers.Dense(1, activation=\"sigmoid\")(y)\n",
    "\n",
    "    # Combine embedding and additional features\n",
    "    combined = layers.concatenate([x, y])\n",
    "    z = layers.Dense(dense_units, activation=\"relu\")(combined)\n",
    "    z = layers.Dropout(dropout_rate)(z)\n",
    "    preds = layers.Dense(1, activation=\"sigmoid\")(z)\n",
    "\n",
    "    model = Model(combi_input, preds)\n",
    "    model.compile(\n",
    "        loss=\"binary_crossentropy\", optimizer='rmsprop', metrics=[\"acc\"]\n",
    "    )\n",
    "    return model"
   ]
  },
  {
   "cell_type": "code",
   "execution_count": 12,
   "metadata": {},
   "outputs": [
    {
     "name": "stdout",
     "output_type": "stream",
     "text": [
      "WARNING:tensorflow:From c:\\Users\\jakuw\\AppData\\Local\\Programs\\Python\\Python312\\Lib\\site-packages\\keras\\src\\backend\\tensorflow\\core.py:222: The name tf.placeholder is deprecated. Please use tf.compat.v1.placeholder instead.\n",
      "\n"
     ]
    },
    {
     "data": {
      "text/html": [
       "<pre style=\"white-space:pre;overflow-x:auto;line-height:normal;font-family:Menlo,'DejaVu Sans Mono',consolas,'Courier New',monospace\"><span style=\"font-weight: bold\">Model: \"functional_52\"</span>\n",
       "</pre>\n"
      ],
      "text/plain": [
       "\u001b[1mModel: \"functional_52\"\u001b[0m\n"
      ]
     },
     "metadata": {},
     "output_type": "display_data"
    },
    {
     "data": {
      "text/html": [
       "<pre style=\"white-space:pre;overflow-x:auto;line-height:normal;font-family:Menlo,'DejaVu Sans Mono',consolas,'Courier New',monospace\">┏━━━━━━━━━━━━━━━━━━━━━┳━━━━━━━━━━━━━━━━━━━┳━━━━━━━━━━━━┳━━━━━━━━━━━━━━━━━━━┓\n",
       "┃<span style=\"font-weight: bold\"> Layer (type)        </span>┃<span style=\"font-weight: bold\"> Output Shape      </span>┃<span style=\"font-weight: bold\">    Param # </span>┃<span style=\"font-weight: bold\"> Connected to      </span>┃\n",
       "┡━━━━━━━━━━━━━━━━━━━━━╇━━━━━━━━━━━━━━━━━━━╇━━━━━━━━━━━━╇━━━━━━━━━━━━━━━━━━━┩\n",
       "│ input_layer_52      │ (<span style=\"color: #00d7ff; text-decoration-color: #00d7ff\">None</span>, <span style=\"color: #00af00; text-decoration-color: #00af00\">39</span>, <span style=\"color: #00af00; text-decoration-color: #00af00\">2</span>)     │          <span style=\"color: #00af00; text-decoration-color: #00af00\">0</span> │ -                 │\n",
       "│ (<span style=\"color: #0087ff; text-decoration-color: #0087ff\">InputLayer</span>)        │                   │            │                   │\n",
       "├─────────────────────┼───────────────────┼────────────┼───────────────────┤\n",
       "│ lambda_1 (<span style=\"color: #0087ff; text-decoration-color: #0087ff\">Lambda</span>)   │ (<span style=\"color: #00d7ff; text-decoration-color: #00d7ff\">None</span>, <span style=\"color: #00af00; text-decoration-color: #00af00\">39</span>)        │          <span style=\"color: #00af00; text-decoration-color: #00af00\">0</span> │ input_layer_52[<span style=\"color: #00af00; text-decoration-color: #00af00\">0</span>… │\n",
       "├─────────────────────┼───────────────────┼────────────┼───────────────────┤\n",
       "│ embedding_52        │ (<span style=\"color: #00d7ff; text-decoration-color: #00d7ff\">None</span>, <span style=\"color: #00af00; text-decoration-color: #00af00\">39</span>, <span style=\"color: #00af00; text-decoration-color: #00af00\">100</span>)   │  <span style=\"color: #00af00; text-decoration-color: #00af00\">2,000,200</span> │ lambda_1[<span style=\"color: #00af00; text-decoration-color: #00af00\">0</span>][<span style=\"color: #00af00; text-decoration-color: #00af00\">0</span>]    │\n",
       "│ (<span style=\"color: #0087ff; text-decoration-color: #0087ff\">Embedding</span>)         │                   │            │                   │\n",
       "├─────────────────────┼───────────────────┼────────────┼───────────────────┤\n",
       "│ conv1d_156 (<span style=\"color: #0087ff; text-decoration-color: #0087ff\">Conv1D</span>) │ (<span style=\"color: #00d7ff; text-decoration-color: #00d7ff\">None</span>, <span style=\"color: #00af00; text-decoration-color: #00af00\">36</span>, <span style=\"color: #00af00; text-decoration-color: #00af00\">32</span>)    │     <span style=\"color: #00af00; text-decoration-color: #00af00\">12,832</span> │ embedding_52[<span style=\"color: #00af00; text-decoration-color: #00af00\">0</span>][<span style=\"color: #00af00; text-decoration-color: #00af00\">…</span> │\n",
       "├─────────────────────┼───────────────────┼────────────┼───────────────────┤\n",
       "│ max_pooling1d_104   │ (<span style=\"color: #00d7ff; text-decoration-color: #00d7ff\">None</span>, <span style=\"color: #00af00; text-decoration-color: #00af00\">18</span>, <span style=\"color: #00af00; text-decoration-color: #00af00\">32</span>)    │          <span style=\"color: #00af00; text-decoration-color: #00af00\">0</span> │ conv1d_156[<span style=\"color: #00af00; text-decoration-color: #00af00\">0</span>][<span style=\"color: #00af00; text-decoration-color: #00af00\">0</span>]  │\n",
       "│ (<span style=\"color: #0087ff; text-decoration-color: #0087ff\">MaxPooling1D</span>)      │                   │            │                   │\n",
       "├─────────────────────┼───────────────────┼────────────┼───────────────────┤\n",
       "│ conv1d_157 (<span style=\"color: #0087ff; text-decoration-color: #0087ff\">Conv1D</span>) │ (<span style=\"color: #00d7ff; text-decoration-color: #00d7ff\">None</span>, <span style=\"color: #00af00; text-decoration-color: #00af00\">15</span>, <span style=\"color: #00af00; text-decoration-color: #00af00\">32</span>)    │      <span style=\"color: #00af00; text-decoration-color: #00af00\">4,128</span> │ max_pooling1d_10… │\n",
       "├─────────────────────┼───────────────────┼────────────┼───────────────────┤\n",
       "│ max_pooling1d_105   │ (<span style=\"color: #00d7ff; text-decoration-color: #00d7ff\">None</span>, <span style=\"color: #00af00; text-decoration-color: #00af00\">7</span>, <span style=\"color: #00af00; text-decoration-color: #00af00\">32</span>)     │          <span style=\"color: #00af00; text-decoration-color: #00af00\">0</span> │ conv1d_157[<span style=\"color: #00af00; text-decoration-color: #00af00\">0</span>][<span style=\"color: #00af00; text-decoration-color: #00af00\">0</span>]  │\n",
       "│ (<span style=\"color: #0087ff; text-decoration-color: #0087ff\">MaxPooling1D</span>)      │                   │            │                   │\n",
       "├─────────────────────┼───────────────────┼────────────┼───────────────────┤\n",
       "│ lambda_2 (<span style=\"color: #0087ff; text-decoration-color: #0087ff\">Lambda</span>)   │ (<span style=\"color: #00d7ff; text-decoration-color: #00d7ff\">None</span>, <span style=\"color: #00af00; text-decoration-color: #00af00\">10</span>)        │          <span style=\"color: #00af00; text-decoration-color: #00af00\">0</span> │ input_layer_52[<span style=\"color: #00af00; text-decoration-color: #00af00\">0</span>… │\n",
       "├─────────────────────┼───────────────────┼────────────┼───────────────────┤\n",
       "│ conv1d_158 (<span style=\"color: #0087ff; text-decoration-color: #0087ff\">Conv1D</span>) │ (<span style=\"color: #00d7ff; text-decoration-color: #00d7ff\">None</span>, <span style=\"color: #00af00; text-decoration-color: #00af00\">4</span>, <span style=\"color: #00af00; text-decoration-color: #00af00\">32</span>)     │      <span style=\"color: #00af00; text-decoration-color: #00af00\">4,128</span> │ max_pooling1d_10… │\n",
       "├─────────────────────┼───────────────────┼────────────┼───────────────────┤\n",
       "│ dense_208 (<span style=\"color: #0087ff; text-decoration-color: #0087ff\">Dense</span>)   │ (<span style=\"color: #00d7ff; text-decoration-color: #00d7ff\">None</span>, <span style=\"color: #00af00; text-decoration-color: #00af00\">128</span>)       │      <span style=\"color: #00af00; text-decoration-color: #00af00\">1,408</span> │ lambda_2[<span style=\"color: #00af00; text-decoration-color: #00af00\">0</span>][<span style=\"color: #00af00; text-decoration-color: #00af00\">0</span>]    │\n",
       "├─────────────────────┼───────────────────┼────────────┼───────────────────┤\n",
       "│ global_max_pooling… │ (<span style=\"color: #00d7ff; text-decoration-color: #00d7ff\">None</span>, <span style=\"color: #00af00; text-decoration-color: #00af00\">32</span>)        │          <span style=\"color: #00af00; text-decoration-color: #00af00\">0</span> │ conv1d_158[<span style=\"color: #00af00; text-decoration-color: #00af00\">0</span>][<span style=\"color: #00af00; text-decoration-color: #00af00\">0</span>]  │\n",
       "│ (<span style=\"color: #0087ff; text-decoration-color: #0087ff\">GlobalMaxPooling1…</span> │                   │            │                   │\n",
       "├─────────────────────┼───────────────────┼────────────┼───────────────────┤\n",
       "│ dense_209 (<span style=\"color: #0087ff; text-decoration-color: #0087ff\">Dense</span>)   │ (<span style=\"color: #00d7ff; text-decoration-color: #00d7ff\">None</span>, <span style=\"color: #00af00; text-decoration-color: #00af00\">1</span>)         │        <span style=\"color: #00af00; text-decoration-color: #00af00\">129</span> │ dense_208[<span style=\"color: #00af00; text-decoration-color: #00af00\">0</span>][<span style=\"color: #00af00; text-decoration-color: #00af00\">0</span>]   │\n",
       "├─────────────────────┼───────────────────┼────────────┼───────────────────┤\n",
       "│ concatenate_52      │ (<span style=\"color: #00d7ff; text-decoration-color: #00d7ff\">None</span>, <span style=\"color: #00af00; text-decoration-color: #00af00\">33</span>)        │          <span style=\"color: #00af00; text-decoration-color: #00af00\">0</span> │ global_max_pooli… │\n",
       "│ (<span style=\"color: #0087ff; text-decoration-color: #0087ff\">Concatenate</span>)       │                   │            │ dense_209[<span style=\"color: #00af00; text-decoration-color: #00af00\">0</span>][<span style=\"color: #00af00; text-decoration-color: #00af00\">0</span>]   │\n",
       "├─────────────────────┼───────────────────┼────────────┼───────────────────┤\n",
       "│ dense_210 (<span style=\"color: #0087ff; text-decoration-color: #0087ff\">Dense</span>)   │ (<span style=\"color: #00d7ff; text-decoration-color: #00d7ff\">None</span>, <span style=\"color: #00af00; text-decoration-color: #00af00\">256</span>)       │      <span style=\"color: #00af00; text-decoration-color: #00af00\">8,704</span> │ concatenate_52[<span style=\"color: #00af00; text-decoration-color: #00af00\">0</span>… │\n",
       "├─────────────────────┼───────────────────┼────────────┼───────────────────┤\n",
       "│ dropout_52          │ (<span style=\"color: #00d7ff; text-decoration-color: #00d7ff\">None</span>, <span style=\"color: #00af00; text-decoration-color: #00af00\">256</span>)       │          <span style=\"color: #00af00; text-decoration-color: #00af00\">0</span> │ dense_210[<span style=\"color: #00af00; text-decoration-color: #00af00\">0</span>][<span style=\"color: #00af00; text-decoration-color: #00af00\">0</span>]   │\n",
       "│ (<span style=\"color: #0087ff; text-decoration-color: #0087ff\">Dropout</span>)           │                   │            │                   │\n",
       "├─────────────────────┼───────────────────┼────────────┼───────────────────┤\n",
       "│ dense_211 (<span style=\"color: #0087ff; text-decoration-color: #0087ff\">Dense</span>)   │ (<span style=\"color: #00d7ff; text-decoration-color: #00d7ff\">None</span>, <span style=\"color: #00af00; text-decoration-color: #00af00\">1</span>)         │        <span style=\"color: #00af00; text-decoration-color: #00af00\">257</span> │ dropout_52[<span style=\"color: #00af00; text-decoration-color: #00af00\">0</span>][<span style=\"color: #00af00; text-decoration-color: #00af00\">0</span>]  │\n",
       "└─────────────────────┴───────────────────┴────────────┴───────────────────┘\n",
       "</pre>\n"
      ],
      "text/plain": [
       "┏━━━━━━━━━━━━━━━━━━━━━┳━━━━━━━━━━━━━━━━━━━┳━━━━━━━━━━━━┳━━━━━━━━━━━━━━━━━━━┓\n",
       "┃\u001b[1m \u001b[0m\u001b[1mLayer (type)       \u001b[0m\u001b[1m \u001b[0m┃\u001b[1m \u001b[0m\u001b[1mOutput Shape     \u001b[0m\u001b[1m \u001b[0m┃\u001b[1m \u001b[0m\u001b[1m   Param #\u001b[0m\u001b[1m \u001b[0m┃\u001b[1m \u001b[0m\u001b[1mConnected to     \u001b[0m\u001b[1m \u001b[0m┃\n",
       "┡━━━━━━━━━━━━━━━━━━━━━╇━━━━━━━━━━━━━━━━━━━╇━━━━━━━━━━━━╇━━━━━━━━━━━━━━━━━━━┩\n",
       "│ input_layer_52      │ (\u001b[38;5;45mNone\u001b[0m, \u001b[38;5;34m39\u001b[0m, \u001b[38;5;34m2\u001b[0m)     │          \u001b[38;5;34m0\u001b[0m │ -                 │\n",
       "│ (\u001b[38;5;33mInputLayer\u001b[0m)        │                   │            │                   │\n",
       "├─────────────────────┼───────────────────┼────────────┼───────────────────┤\n",
       "│ lambda_1 (\u001b[38;5;33mLambda\u001b[0m)   │ (\u001b[38;5;45mNone\u001b[0m, \u001b[38;5;34m39\u001b[0m)        │          \u001b[38;5;34m0\u001b[0m │ input_layer_52[\u001b[38;5;34m0\u001b[0m… │\n",
       "├─────────────────────┼───────────────────┼────────────┼───────────────────┤\n",
       "│ embedding_52        │ (\u001b[38;5;45mNone\u001b[0m, \u001b[38;5;34m39\u001b[0m, \u001b[38;5;34m100\u001b[0m)   │  \u001b[38;5;34m2,000,200\u001b[0m │ lambda_1[\u001b[38;5;34m0\u001b[0m][\u001b[38;5;34m0\u001b[0m]    │\n",
       "│ (\u001b[38;5;33mEmbedding\u001b[0m)         │                   │            │                   │\n",
       "├─────────────────────┼───────────────────┼────────────┼───────────────────┤\n",
       "│ conv1d_156 (\u001b[38;5;33mConv1D\u001b[0m) │ (\u001b[38;5;45mNone\u001b[0m, \u001b[38;5;34m36\u001b[0m, \u001b[38;5;34m32\u001b[0m)    │     \u001b[38;5;34m12,832\u001b[0m │ embedding_52[\u001b[38;5;34m0\u001b[0m][\u001b[38;5;34m…\u001b[0m │\n",
       "├─────────────────────┼───────────────────┼────────────┼───────────────────┤\n",
       "│ max_pooling1d_104   │ (\u001b[38;5;45mNone\u001b[0m, \u001b[38;5;34m18\u001b[0m, \u001b[38;5;34m32\u001b[0m)    │          \u001b[38;5;34m0\u001b[0m │ conv1d_156[\u001b[38;5;34m0\u001b[0m][\u001b[38;5;34m0\u001b[0m]  │\n",
       "│ (\u001b[38;5;33mMaxPooling1D\u001b[0m)      │                   │            │                   │\n",
       "├─────────────────────┼───────────────────┼────────────┼───────────────────┤\n",
       "│ conv1d_157 (\u001b[38;5;33mConv1D\u001b[0m) │ (\u001b[38;5;45mNone\u001b[0m, \u001b[38;5;34m15\u001b[0m, \u001b[38;5;34m32\u001b[0m)    │      \u001b[38;5;34m4,128\u001b[0m │ max_pooling1d_10… │\n",
       "├─────────────────────┼───────────────────┼────────────┼───────────────────┤\n",
       "│ max_pooling1d_105   │ (\u001b[38;5;45mNone\u001b[0m, \u001b[38;5;34m7\u001b[0m, \u001b[38;5;34m32\u001b[0m)     │          \u001b[38;5;34m0\u001b[0m │ conv1d_157[\u001b[38;5;34m0\u001b[0m][\u001b[38;5;34m0\u001b[0m]  │\n",
       "│ (\u001b[38;5;33mMaxPooling1D\u001b[0m)      │                   │            │                   │\n",
       "├─────────────────────┼───────────────────┼────────────┼───────────────────┤\n",
       "│ lambda_2 (\u001b[38;5;33mLambda\u001b[0m)   │ (\u001b[38;5;45mNone\u001b[0m, \u001b[38;5;34m10\u001b[0m)        │          \u001b[38;5;34m0\u001b[0m │ input_layer_52[\u001b[38;5;34m0\u001b[0m… │\n",
       "├─────────────────────┼───────────────────┼────────────┼───────────────────┤\n",
       "│ conv1d_158 (\u001b[38;5;33mConv1D\u001b[0m) │ (\u001b[38;5;45mNone\u001b[0m, \u001b[38;5;34m4\u001b[0m, \u001b[38;5;34m32\u001b[0m)     │      \u001b[38;5;34m4,128\u001b[0m │ max_pooling1d_10… │\n",
       "├─────────────────────┼───────────────────┼────────────┼───────────────────┤\n",
       "│ dense_208 (\u001b[38;5;33mDense\u001b[0m)   │ (\u001b[38;5;45mNone\u001b[0m, \u001b[38;5;34m128\u001b[0m)       │      \u001b[38;5;34m1,408\u001b[0m │ lambda_2[\u001b[38;5;34m0\u001b[0m][\u001b[38;5;34m0\u001b[0m]    │\n",
       "├─────────────────────┼───────────────────┼────────────┼───────────────────┤\n",
       "│ global_max_pooling… │ (\u001b[38;5;45mNone\u001b[0m, \u001b[38;5;34m32\u001b[0m)        │          \u001b[38;5;34m0\u001b[0m │ conv1d_158[\u001b[38;5;34m0\u001b[0m][\u001b[38;5;34m0\u001b[0m]  │\n",
       "│ (\u001b[38;5;33mGlobalMaxPooling1…\u001b[0m │                   │            │                   │\n",
       "├─────────────────────┼───────────────────┼────────────┼───────────────────┤\n",
       "│ dense_209 (\u001b[38;5;33mDense\u001b[0m)   │ (\u001b[38;5;45mNone\u001b[0m, \u001b[38;5;34m1\u001b[0m)         │        \u001b[38;5;34m129\u001b[0m │ dense_208[\u001b[38;5;34m0\u001b[0m][\u001b[38;5;34m0\u001b[0m]   │\n",
       "├─────────────────────┼───────────────────┼────────────┼───────────────────┤\n",
       "│ concatenate_52      │ (\u001b[38;5;45mNone\u001b[0m, \u001b[38;5;34m33\u001b[0m)        │          \u001b[38;5;34m0\u001b[0m │ global_max_pooli… │\n",
       "│ (\u001b[38;5;33mConcatenate\u001b[0m)       │                   │            │ dense_209[\u001b[38;5;34m0\u001b[0m][\u001b[38;5;34m0\u001b[0m]   │\n",
       "├─────────────────────┼───────────────────┼────────────┼───────────────────┤\n",
       "│ dense_210 (\u001b[38;5;33mDense\u001b[0m)   │ (\u001b[38;5;45mNone\u001b[0m, \u001b[38;5;34m256\u001b[0m)       │      \u001b[38;5;34m8,704\u001b[0m │ concatenate_52[\u001b[38;5;34m0\u001b[0m… │\n",
       "├─────────────────────┼───────────────────┼────────────┼───────────────────┤\n",
       "│ dropout_52          │ (\u001b[38;5;45mNone\u001b[0m, \u001b[38;5;34m256\u001b[0m)       │          \u001b[38;5;34m0\u001b[0m │ dense_210[\u001b[38;5;34m0\u001b[0m][\u001b[38;5;34m0\u001b[0m]   │\n",
       "│ (\u001b[38;5;33mDropout\u001b[0m)           │                   │            │                   │\n",
       "├─────────────────────┼───────────────────┼────────────┼───────────────────┤\n",
       "│ dense_211 (\u001b[38;5;33mDense\u001b[0m)   │ (\u001b[38;5;45mNone\u001b[0m, \u001b[38;5;34m1\u001b[0m)         │        \u001b[38;5;34m257\u001b[0m │ dropout_52[\u001b[38;5;34m0\u001b[0m][\u001b[38;5;34m0\u001b[0m]  │\n",
       "└─────────────────────┴───────────────────┴────────────┴───────────────────┘\n"
      ]
     },
     "metadata": {},
     "output_type": "display_data"
    },
    {
     "data": {
      "text/html": [
       "<pre style=\"white-space:pre;overflow-x:auto;line-height:normal;font-family:Menlo,'DejaVu Sans Mono',consolas,'Courier New',monospace\"><span style=\"font-weight: bold\"> Total params: </span><span style=\"color: #00af00; text-decoration-color: #00af00\">2,063,374</span> (7.87 MB)\n",
       "</pre>\n"
      ],
      "text/plain": [
       "\u001b[1m Total params: \u001b[0m\u001b[38;5;34m2,063,374\u001b[0m (7.87 MB)\n"
      ]
     },
     "metadata": {},
     "output_type": "display_data"
    },
    {
     "data": {
      "text/html": [
       "<pre style=\"white-space:pre;overflow-x:auto;line-height:normal;font-family:Menlo,'DejaVu Sans Mono',consolas,'Courier New',monospace\"><span style=\"font-weight: bold\"> Trainable params: </span><span style=\"color: #00af00; text-decoration-color: #00af00\">31,586</span> (123.38 KB)\n",
       "</pre>\n"
      ],
      "text/plain": [
       "\u001b[1m Trainable params: \u001b[0m\u001b[38;5;34m31,586\u001b[0m (123.38 KB)\n"
      ]
     },
     "metadata": {},
     "output_type": "display_data"
    },
    {
     "data": {
      "text/html": [
       "<pre style=\"white-space:pre;overflow-x:auto;line-height:normal;font-family:Menlo,'DejaVu Sans Mono',consolas,'Courier New',monospace\"><span style=\"font-weight: bold\"> Non-trainable params: </span><span style=\"color: #00af00; text-decoration-color: #00af00\">2,000,200</span> (7.63 MB)\n",
       "</pre>\n"
      ],
      "text/plain": [
       "\u001b[1m Non-trainable params: \u001b[0m\u001b[38;5;34m2,000,200\u001b[0m (7.63 MB)\n"
      ]
     },
     "metadata": {},
     "output_type": "display_data"
    },
    {
     "data": {
      "text/html": [
       "<pre style=\"white-space:pre;overflow-x:auto;line-height:normal;font-family:Menlo,'DejaVu Sans Mono',consolas,'Courier New',monospace\"><span style=\"font-weight: bold\"> Optimizer params: </span><span style=\"color: #00af00; text-decoration-color: #00af00\">31,588</span> (123.39 KB)\n",
       "</pre>\n"
      ],
      "text/plain": [
       "\u001b[1m Optimizer params: \u001b[0m\u001b[38;5;34m31,588\u001b[0m (123.39 KB)\n"
      ]
     },
     "metadata": {},
     "output_type": "display_data"
    }
   ],
   "source": [
    "# Logika wczytywania lub tworzenia nowego modelu\n",
    "model_path = \"cnn_model_optimized.keras\"\n",
    "if os.path.isfile(model_path):\n",
    "    model = keras.models.load_model(model_path)\n",
    "else:\n",
    "    # Przygotowanie KerasClassifier do użycia z Random Search\n",
    "    model = KerasClassifier(\n",
    "        model=create_model,\n",
    "        filters=64,\n",
    "        kernel_size=3,\n",
    "        dense_units=128,\n",
    "        dropout_rate=0.5,\n",
    "        verbose=0,\n",
    "        batch_size=64,\n",
    "        features_dense_units=16,\n",
    "    )\n",
    "\n",
    "    # Zakres hiperparametrów do przeszukania\n",
    "    param_distributions = {\n",
    "        \"filters\": [32, 64],\n",
    "        \"kernel_size\": [2,3,4],\n",
    "        \"dense_units\": [32, 64, 128, 256],\n",
    "        \"dropout_rate\": [0.3, 0.5, 0.7],\n",
    "        \"batch_size\": [32, 64],\n",
    "        \"epochs\": [3],\n",
    "        \"features_dense_units\":[32,64,128]\n",
    "    }\n",
    "\n",
    "    # Przeprowadzenie Random Search\n",
    "    search = RandomizedSearchCV(\n",
    "        estimator=model,\n",
    "        param_distributions=param_distributions,\n",
    "        n_iter=15,\n",
    "        n_jobs=1,\n",
    "        cv=3,\n",
    "        verbose=4,\n",
    "        random_state=42,\n",
    "    )\n",
    "\n",
    "    # Dopasowanie modelu do danych\n",
    "    search_result = search.fit(x_train, y_train)\n",
    "\n",
    "    best_params = search_result.best_params_\n",
    "    print(\"Najlepsze parametry:\", best_params)\n",
    "    print(\"Najlepszy wynik:\", search_result.best_score_)\n",
    "    print(f\"Najlepsze parametry: {best_params}.\")\n",
    "\n",
    "    model = KerasClassifier(\n",
    "        model=create_model,\n",
    "        **best_params,\n",
    "        verbose=1,\n",
    "    )\n",
    "\n",
    "    model.fit(x_train, y_train)\n",
    "    model.model_.save(model_path)  # `model_.save` for scikeras wrapper\n",
    "if getattr(model, \"model_\", None) is not None:\n",
    "    model.model_.summary()\n",
    "else:\n",
    "    model.summary()"
   ]
  },
  {
   "cell_type": "markdown",
   "metadata": {},
   "source": [
    "### Porównanie z prostym modelem (0,5 pkt)\n",
    "- Analiza różnic w wynikach między modelami.\n",
    "- Wnioski dotyczące wpływu zaawansowanych technik."
   ]
  },
  {
   "cell_type": "markdown",
   "metadata": {},
   "source": [
    "Model CNN"
   ]
  },
  {
   "cell_type": "code",
   "execution_count": 13,
   "metadata": {},
   "outputs": [
    {
     "name": "stdout",
     "output_type": "stream",
     "text": [
      "\u001b[1m15000/15000\u001b[0m \u001b[32m━━━━━━━━━━━━━━━━━━━━\u001b[0m\u001b[37m\u001b[0m \u001b[1m12s\u001b[0m 803us/step\n",
      "Dokładność modelu: 0.7976770833333333\n",
      "Raport klasyfikacji:\n",
      "               precision    recall  f1-score   support\n",
      "\n",
      "           0       0.79      0.81      0.80    239877\n",
      "           1       0.80      0.79      0.80    240123\n",
      "\n",
      "    accuracy                           0.80    480000\n",
      "   macro avg       0.80      0.80      0.80    480000\n",
      "weighted avg       0.80      0.80      0.80    480000\n",
      "\n",
      "ROC_AUC 0.8785251682067234\n"
     ]
    }
   ],
   "source": [
    "from sklearn.metrics import accuracy_score\n",
    "from sklearn.metrics import classification_report \n",
    "from sklearn.metrics import roc_auc_score\n",
    "    \n",
    "vectorizer\n",
    "y_pred = model.predict(x_test)\n",
    "roc_auc = roc_auc_score(y_test, y_pred)\n",
    "y_pred[y_pred >= 0.5] = 1\n",
    "y_pred[y_pred < 0.5] = 0\n",
    "print(\"Dokładność modelu:\", accuracy_score(y_test, y_pred))\n",
    "print(\"Raport klasyfikacji:\\n\", classification_report(y_test, y_pred))\n",
    "print(f\"ROC_AUC {roc_auc}\")"
   ]
  },
  {
   "cell_type": "markdown",
   "metadata": {},
   "source": [
    "Prosty model regresji logistycznej"
   ]
  },
  {
   "cell_type": "code",
   "execution_count": 14,
   "metadata": {},
   "outputs": [
    {
     "data": {
      "text/plain": [
       "0.8098116071428572"
      ]
     },
     "execution_count": 14,
     "metadata": {},
     "output_type": "execute_result"
    }
   ],
   "source": [
    "from sklearn.linear_model import LogisticRegression\n",
    "from sklearn.feature_extraction.text import TfidfVectorizer\n",
    "from sklearn.preprocessing import StandardScaler\n",
    "from scipy.sparse import csr_matrix, hstack\n",
    "\n",
    "def dummy_fun(doc):\n",
    "    return doc\n",
    "\n",
    "tfidf = TfidfVectorizer(\n",
    "    ngram_range=(1,2),\n",
    "    max_features=10000,\n",
    "    analyzer='word',\n",
    "    tokenizer=dummy_fun,\n",
    "    preprocessor=dummy_fun,\n",
    "    token_pattern=None)  \n",
    "\n",
    "scaler = StandardScaler()\n",
    "features_train = csr_matrix(scaler.fit_transform(train_df.iloc[:,3:]))\n",
    "features_test = csr_matrix(scaler.transform(test_df.iloc[:,3:]))\n",
    "\n",
    "X_train_linear = hstack([tfidf.fit_transform(train_df['tokens']), features_train])\n",
    "X_test_linear = hstack([tfidf.transform(test_df['tokens']), features_test])\n",
    "Y_train_linear = train_df['target']\n",
    "Y_test_linear = test_df['target']\n",
    "\n",
    "clf = LogisticRegression(random_state=0, max_iter = 10000, n_jobs=-1).fit(X_train_linear, Y_train_linear)\n",
    "clf.score(X_train_linear, Y_train_linear)"
   ]
  },
  {
   "cell_type": "code",
   "execution_count": 15,
   "metadata": {},
   "outputs": [
    {
     "data": {
      "text/plain": [
       "0.8082616071428571"
      ]
     },
     "execution_count": 15,
     "metadata": {},
     "output_type": "execute_result"
    }
   ],
   "source": [
    "\n",
    "X_train_linear = tfidf.transform(train_df['tokens'])\n",
    "X_test_linear = tfidf.transform(test_df['tokens'])\n",
    "Y_train_linear = train_df['target']\n",
    "Y_test_linear = test_df['target']\n",
    "\n",
    "clf = LogisticRegression(random_state=0, max_iter = 10000, n_jobs=-1).fit(X_train_linear, Y_train_linear)\n",
    "clf.score(X_train_linear, Y_train_linear)"
   ]
  },
  {
   "cell_type": "code",
   "execution_count": 16,
   "metadata": {},
   "outputs": [
    {
     "name": "stdout",
     "output_type": "stream",
     "text": [
      "Dokładność modelu: 0.8053083333333333\n",
      "Raport klasyfikacji:\n",
      "               precision    recall  f1-score   support\n",
      "\n",
      "           0       0.81      0.79      0.80    239877\n",
      "           1       0.80      0.82      0.81    240123\n",
      "\n",
      "    accuracy                           0.81    480000\n",
      "   macro avg       0.81      0.81      0.81    480000\n",
      "weighted avg       0.81      0.81      0.81    480000\n",
      "\n",
      "ROC_AUC 0.8851786362129789\n"
     ]
    }
   ],
   "source": [
    "y_pred = clf.predict(X_test_linear)\n",
    "print(\"Dokładność modelu:\", accuracy_score(Y_test_linear, y_pred))\n",
    "print(\"Raport klasyfikacji:\\n\", classification_report(Y_test_linear, y_pred))\n",
    "roc_auc = roc_auc_score(Y_test_linear, clf.predict_proba(X_test_linear)[:, 1])\n",
    "print(f\"ROC_AUC {roc_auc}\")"
   ]
  },
  {
   "cell_type": "markdown",
   "metadata": {},
   "source": [
    "XGBoost"
   ]
  },
  {
   "cell_type": "code",
   "execution_count": 17,
   "metadata": {},
   "outputs": [
    {
     "data": {
      "text/plain": [
       "0.8166946428571429"
      ]
     },
     "execution_count": 17,
     "metadata": {},
     "output_type": "execute_result"
    }
   ],
   "source": [
    "from xgboost import XGBClassifier\n",
    "clf = XGBClassifier(n_estimators=1000, max_depth=5)\n",
    "clf.fit(X_train_linear,Y_train_linear)\n",
    "clf.score(X_train_linear,Y_train_linear)"
   ]
  },
  {
   "cell_type": "code",
   "execution_count": 18,
   "metadata": {},
   "outputs": [
    {
     "name": "stdout",
     "output_type": "stream",
     "text": [
      "Dokładność modelu: 0.8006354166666667\n",
      "Raport klasyfikacji:\n",
      "               precision    recall  f1-score   support\n",
      "\n",
      "           0       0.81      0.78      0.80    239877\n",
      "           1       0.79      0.82      0.80    240123\n",
      "\n",
      "    accuracy                           0.80    480000\n",
      "   macro avg       0.80      0.80      0.80    480000\n",
      "weighted avg       0.80      0.80      0.80    480000\n",
      "\n",
      "ROC_AUC 0.8814066204305688\n"
     ]
    }
   ],
   "source": [
    "\n",
    "y_pred = clf.predict(X_test_linear)\n",
    "print(\"Dokładność modelu:\", accuracy_score(Y_test_linear, y_pred))\n",
    "print(\"Raport klasyfikacji:\\n\", classification_report(Y_test_linear, y_pred))\n",
    "roc_auc = roc_auc_score(Y_test_linear, clf.predict_proba(X_test_linear)[:, 1])\n",
    "print(f\"ROC_AUC {roc_auc}\")"
   ]
  },
  {
   "cell_type": "markdown",
   "metadata": {},
   "source": [
    "Etap 4 - porównanie z modelami LLM"
   ]
  },
  {
   "cell_type": "markdown",
   "metadata": {},
   "source": [
    "Predykcja modelu CNN na wszystkich tweetach ze zbioru."
   ]
  },
  {
   "cell_type": "code",
   "execution_count": 19,
   "metadata": {},
   "outputs": [
    {
     "name": "stdout",
     "output_type": "stream",
     "text": [
      "\u001b[92mModel Loaded\u001b[0m\n"
     ]
    }
   ],
   "source": [
    "csv_data = pd.read_csv('training.1600000.processed.noemoticon.csv', sep=',', encoding='latin-1',  header=None)\n",
    "csv_data.columns = [\"target\",\"ids\",\"date\",\"flag\",\"user\",\"text\"]\n",
    "csv_data['target'] = csv_data['target'].replace(4, 1)\n",
    "csv_data.rename(columns={'target': 'target_tst'}, inplace=True)\n",
    "csv_data = csv_data.drop([\"ids\",\"date\",\"flag\",\"user\"], axis = 1)\n",
    "csv_data.head()\n",
    "\n",
    "df_combined = pd.concat([df, csv_data], axis=1)\n",
    "\n",
    "OurModel = None\n",
    "model_path = \"cnn_model_optimized.keras\"\n",
    "if os.path.isfile(model_path):\n",
    "    OurModel = keras.models.load_model(model_path)\n",
    "    print(\"\\033[92mModel Loaded\\033[0m\")\n",
    "else:\n",
    "    print(f\"\\033[91mModel not exist [{model_path}]\\033[0m\")"
   ]
  },
  {
   "cell_type": "code",
   "execution_count": 20,
   "metadata": {},
   "outputs": [],
   "source": [
    "def calculateTokenCoverage(df):\n",
    "    def token_coverage(row):\n",
    "        tokens = row['tokens']\n",
    "        text = row['text'].lower()\n",
    "        \n",
    "        matching_tokens = sum(1 for token in tokens if token in text)\n",
    "        if len(tokens) == 0:\n",
    "            return 0\n",
    "        return matching_tokens / len(tokens) * 100\n",
    "\n",
    "    return df.apply(token_coverage, axis=1)"
   ]
  },
  {
   "cell_type": "code",
   "execution_count": 21,
   "metadata": {},
   "outputs": [
    {
     "data": {
      "text/html": [
       "<div>\n",
       "<style scoped>\n",
       "    .dataframe tbody tr th:only-of-type {\n",
       "        vertical-align: middle;\n",
       "    }\n",
       "\n",
       "    .dataframe tbody tr th {\n",
       "        vertical-align: top;\n",
       "    }\n",
       "\n",
       "    .dataframe thead th {\n",
       "        text-align: right;\n",
       "    }\n",
       "</style>\n",
       "<table border=\"1\" class=\"dataframe\">\n",
       "  <thead>\n",
       "    <tr style=\"text-align: right;\">\n",
       "      <th></th>\n",
       "      <th>text</th>\n",
       "      <th>tokens</th>\n",
       "      <th>token_coverage</th>\n",
       "    </tr>\n",
       "  </thead>\n",
       "  <tbody>\n",
       "    <tr>\n",
       "      <th>1538303</th>\n",
       "      <td>VFC is what you need</td>\n",
       "      <td>[vfc, you, need]</td>\n",
       "      <td>100.000000</td>\n",
       "    </tr>\n",
       "    <tr>\n",
       "      <th>692164</th>\n",
       "      <td>today tuition gained nothing  - http://tweet.sg</td>\n",
       "      <td>[today, tuition, gain, nothing]</td>\n",
       "      <td>100.000000</td>\n",
       "    </tr>\n",
       "    <tr>\n",
       "      <th>1197621</th>\n",
       "      <td>@renmiu Mmm, sounds yummy.</td>\n",
       "      <td>[mmm, sound, yummy]</td>\n",
       "      <td>100.000000</td>\n",
       "    </tr>\n",
       "    <tr>\n",
       "      <th>461162</th>\n",
       "      <td>Starting my day at work. An other rainy, cold ...</td>\n",
       "      <td>[start, my, day, work, other, rainy, cold, day...</td>\n",
       "      <td>100.000000</td>\n",
       "    </tr>\n",
       "    <tr>\n",
       "      <th>533737</th>\n",
       "      <td>@SECURITYJ He has gone to sleep in my bed!!!!!!!</td>\n",
       "      <td>[he, have, go, sleep, my, bed, !]</td>\n",
       "      <td>85.714286</td>\n",
       "    </tr>\n",
       "  </tbody>\n",
       "</table>\n",
       "</div>"
      ],
      "text/plain": [
       "                                                      text  \\\n",
       "1538303                              VFC is what you need    \n",
       "692164     today tuition gained nothing  - http://tweet.sg   \n",
       "1197621                       @renmiu Mmm, sounds yummy.     \n",
       "461162   Starting my day at work. An other rainy, cold ...   \n",
       "533737   @SECURITYJ He has gone to sleep in my bed!!!!!!!    \n",
       "\n",
       "                                                    tokens  token_coverage  \n",
       "1538303                                   [vfc, you, need]      100.000000  \n",
       "692164                     [today, tuition, gain, nothing]      100.000000  \n",
       "1197621                                [mmm, sound, yummy]      100.000000  \n",
       "461162   [start, my, day, work, other, rainy, cold, day...      100.000000  \n",
       "533737                   [he, have, go, sleep, my, bed, !]       85.714286  "
      ]
     },
     "execution_count": 21,
     "metadata": {},
     "output_type": "execute_result"
    }
   ],
   "source": [
    "df_combined[['text','tokens']].head()\n",
    "df_combined['token_coverage'] = calculateTokenCoverage(df_combined)\n",
    "df_combined[['text', 'tokens', 'token_coverage']].sample(5)\n"
   ]
  },
  {
   "cell_type": "code",
   "execution_count": 22,
   "metadata": {},
   "outputs": [],
   "source": [
    "X_all_tweet = getX(df, False)\n",
    "Y_all_tweet = df[\"target\"].to_numpy()\n"
   ]
  },
  {
   "cell_type": "code",
   "execution_count": 23,
   "metadata": {},
   "outputs": [
    {
     "name": "stdout",
     "output_type": "stream",
     "text": [
      "\u001b[1m50000/50000\u001b[0m \u001b[32m━━━━━━━━━━━━━━━━━━━━\u001b[0m\u001b[37m\u001b[0m \u001b[1m44s\u001b[0m 871us/step\n"
     ]
    }
   ],
   "source": [
    "Y_all_tweet_pred = OurModel.predict(X_all_tweet)"
   ]
  },
  {
   "cell_type": "code",
   "execution_count": 24,
   "metadata": {},
   "outputs": [
    {
     "name": "stdout",
     "output_type": "stream",
     "text": [
      "Dokładność modelu: 0.800660625\n",
      "Raport klasyfikacji:\n",
      "               precision    recall  f1-score   support\n",
      "\n",
      "           0       0.79      0.81      0.80    800000\n",
      "           1       0.81      0.79      0.80    800000\n",
      "\n",
      "    accuracy                           0.80   1600000\n",
      "   macro avg       0.80      0.80      0.80   1600000\n",
      "weighted avg       0.80      0.80      0.80   1600000\n",
      "\n",
      "ROC_AUC 0.88187736410625\n"
     ]
    }
   ],
   "source": [
    "roc_auc = roc_auc_score(Y_all_tweet, Y_all_tweet_pred)\n",
    "Y_all_tweet_pred[Y_all_tweet_pred >= 0.5] = 1\n",
    "Y_all_tweet_pred[Y_all_tweet_pred < 0.5] = 0\n",
    "print(\"Dokładność modelu:\", accuracy_score(Y_all_tweet, Y_all_tweet_pred))\n",
    "print(\"Raport klasyfikacji:\\n\", classification_report(Y_all_tweet, Y_all_tweet_pred))\n",
    "print(f\"ROC_AUC {roc_auc}\")"
   ]
  },
  {
   "cell_type": "code",
   "execution_count": 25,
   "metadata": {},
   "outputs": [
    {
     "name": "stdout",
     "output_type": "stream",
     "text": [
      "Liczba rekordów, gdzie 'target' różni się od 'target_tst': 0\n"
     ]
    },
    {
     "data": {
      "text/html": [
       "<div>\n",
       "<style scoped>\n",
       "    .dataframe tbody tr th:only-of-type {\n",
       "        vertical-align: middle;\n",
       "    }\n",
       "\n",
       "    .dataframe tbody tr th {\n",
       "        vertical-align: top;\n",
       "    }\n",
       "\n",
       "    .dataframe thead th {\n",
       "        text-align: right;\n",
       "    }\n",
       "</style>\n",
       "<table border=\"1\" class=\"dataframe\">\n",
       "  <thead>\n",
       "    <tr style=\"text-align: right;\">\n",
       "      <th></th>\n",
       "      <th>target</th>\n",
       "      <th>text</th>\n",
       "      <th>tokens</th>\n",
       "      <th>cnn_pred</th>\n",
       "    </tr>\n",
       "  </thead>\n",
       "  <tbody>\n",
       "    <tr>\n",
       "      <th>253054</th>\n",
       "      <td>0</td>\n",
       "      <td>strange day today. fixed my cab and then JUST ...</td>\n",
       "      <td>[strange, day, today, fix, my, cab, and, then,...</td>\n",
       "      <td>0</td>\n",
       "    </tr>\n",
       "    <tr>\n",
       "      <th>160133</th>\n",
       "      <td>0</td>\n",
       "      <td>What? I focused on Tom so much I didn't see my...</td>\n",
       "      <td>[?, focus, tom, so, much, do, not, see, my, be...</td>\n",
       "      <td>0</td>\n",
       "    </tr>\n",
       "    <tr>\n",
       "      <th>1120524</th>\n",
       "      <td>1</td>\n",
       "      <td>just a day with the girlies 2daii, so funni no...</td>\n",
       "      <td>[just, day, girlie, so, funni, non, we, could,...</td>\n",
       "      <td>0</td>\n",
       "    </tr>\n",
       "    <tr>\n",
       "      <th>647027</th>\n",
       "      <td>0</td>\n",
       "      <td>I was bad yesterday</td>\n",
       "      <td>[bad, yesterday]</td>\n",
       "      <td>0</td>\n",
       "    </tr>\n",
       "    <tr>\n",
       "      <th>678125</th>\n",
       "      <td>0</td>\n",
       "      <td>Lunch is taking forever.</td>\n",
       "      <td>[lunch, take, forever]</td>\n",
       "      <td>0</td>\n",
       "    </tr>\n",
       "    <tr>\n",
       "      <th>1095703</th>\n",
       "      <td>1</td>\n",
       "      <td>Last night was CRAZY! Partying with Gunnel...g...</td>\n",
       "      <td>[last, night, crazy, !, party, gunnel, ..., go...</td>\n",
       "      <td>1</td>\n",
       "    </tr>\n",
       "    <tr>\n",
       "      <th>354223</th>\n",
       "      <td>0</td>\n",
       "      <td>I miss being on the radio</td>\n",
       "      <td>[miss, radio]</td>\n",
       "      <td>0</td>\n",
       "    </tr>\n",
       "    <tr>\n",
       "      <th>269620</th>\n",
       "      <td>0</td>\n",
       "      <td>@misha11 I should have my happy butt in bed.</td>\n",
       "      <td>[should, have, my, happy, butt, bed]</td>\n",
       "      <td>1</td>\n",
       "    </tr>\n",
       "    <tr>\n",
       "      <th>1002784</th>\n",
       "      <td>1</td>\n",
       "      <td>Can't wait to see Lamb in concert tonight, tho...</td>\n",
       "      <td>[can, not, wait, see, lamb, concert, tonight, ...</td>\n",
       "      <td>0</td>\n",
       "    </tr>\n",
       "    <tr>\n",
       "      <th>1519506</th>\n",
       "      <td>1</td>\n",
       "      <td>GOnna start all over!  starting all over again...</td>\n",
       "      <td>[gonna, start, all, over, !, start, all, over,...</td>\n",
       "      <td>0</td>\n",
       "    </tr>\n",
       "  </tbody>\n",
       "</table>\n",
       "</div>"
      ],
      "text/plain": [
       "         target                                               text  \\\n",
       "253054        0  strange day today. fixed my cab and then JUST ...   \n",
       "160133        0  What? I focused on Tom so much I didn't see my...   \n",
       "1120524       1  just a day with the girlies 2daii, so funni no...   \n",
       "647027        0                               I was bad yesterday    \n",
       "678125        0                          Lunch is taking forever.    \n",
       "1095703       1  Last night was CRAZY! Partying with Gunnel...g...   \n",
       "354223        0                         I miss being on the radio    \n",
       "269620        0     @misha11 I should have my happy butt in bed.     \n",
       "1002784       1  Can't wait to see Lamb in concert tonight, tho...   \n",
       "1519506       1  GOnna start all over!  starting all over again...   \n",
       "\n",
       "                                                    tokens  cnn_pred  \n",
       "253054   [strange, day, today, fix, my, cab, and, then,...         0  \n",
       "160133   [?, focus, tom, so, much, do, not, see, my, be...         0  \n",
       "1120524  [just, day, girlie, so, funni, non, we, could,...         0  \n",
       "647027                                    [bad, yesterday]         0  \n",
       "678125                              [lunch, take, forever]         0  \n",
       "1095703  [last, night, crazy, !, party, gunnel, ..., go...         1  \n",
       "354223                                       [miss, radio]         0  \n",
       "269620                [should, have, my, happy, butt, bed]         1  \n",
       "1002784  [can, not, wait, see, lamb, concert, tonight, ...         0  \n",
       "1519506  [gonna, start, all, over, !, start, all, over,...         0  "
      ]
     },
     "execution_count": 25,
     "metadata": {},
     "output_type": "execute_result"
    }
   ],
   "source": [
    "df_combined['cnn_pred'] = Y_all_tweet_pred.flatten().astype(int)\n",
    "difference_count = (df_combined['target'] != df_combined['target_tst']).sum()\n",
    "print(f\"Liczba rekordów, gdzie 'target' różni się od 'target_tst': {difference_count}\")\n",
    "\n",
    "df_to_save = df_combined[['target','text','tokens','cnn_pred']]\n",
    "df_to_save.sample(10)"
   ]
  },
  {
   "cell_type": "code",
   "execution_count": 26,
   "metadata": {},
   "outputs": [],
   "source": [
    "save_path = 'CNN_tweet_prediction.csv'\n",
    "\n",
    "df_to_save.to_csv(\n",
    "    save_path,\n",
    "    sep=',',                # Separator przecinek\n",
    "    index=False,            # Bez indeksów\n",
    "    quoting=1,              # Cytowanie wszystkich wartości (1 odpowiada csv.QUOTE_ALL)\n",
    "    quotechar='\"',          # Użycie cudzysłowów\n",
    ")"
   ]
  },
  {
   "cell_type": "code",
   "execution_count": 27,
   "metadata": {},
   "outputs": [
    {
     "name": "stdout",
     "output_type": "stream",
     "text": [
      "80.06606250% rekordów ma tę samą wartość w kolumnach 'target' i 'cnn_pred'.\n"
     ]
    }
   ],
   "source": [
    "matching_records = (df_to_save['target'] == df_to_save['cnn_pred']).sum()\n",
    "\n",
    "total_records = len(df_to_save)\n",
    "percentage_matching = (matching_records / total_records) * 100\n",
    "\n",
    "print(f\"{percentage_matching:.8f}% rekordów ma tę samą wartość w kolumnach 'target' i 'cnn_pred'.\")\n"
   ]
  }
 ],
 "metadata": {
  "kernelspec": {
   "display_name": "Python 3",
   "language": "python",
   "name": "python3"
  },
  "language_info": {
   "codemirror_mode": {
    "name": "ipython",
    "version": 3
   },
   "file_extension": ".py",
   "mimetype": "text/x-python",
   "name": "python",
   "nbconvert_exporter": "python",
   "pygments_lexer": "ipython3",
   "version": "3.12.1"
  }
 },
 "nbformat": 4,
 "nbformat_minor": 2
}
