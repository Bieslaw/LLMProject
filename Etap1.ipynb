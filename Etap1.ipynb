{
 "cells": [
  {
   "cell_type": "code",
   "execution_count": 1,
   "id": "5ebb2798",
   "metadata": {},
   "outputs": [],
   "source": [
    "import locale\n",
    "import sys\n",
    "import pandas as pd\n",
    "import numpy as np\n"
   ]
  },
  {
   "cell_type": "markdown",
   "id": "c2e065f7",
   "metadata": {},
   "source": [
    "1.Pobranie zbioru danych"
   ]
  },
  {
   "cell_type": "code",
   "execution_count": 2,
   "id": "4df61b45",
   "metadata": {
    "scrolled": false
   },
   "outputs": [],
   "source": [
    "df = pd.read_csv('training.1600000.processed.noemoticon.csv', sep=',', encoding='latin-1',  header=None)\n",
    "df.columns = [\"target\",\"ids\",\"date\",\"flag\",\"user\",\"text\"]"
   ]
  },
  {
   "cell_type": "markdown",
   "id": "0aa3433f",
   "metadata": {},
   "source": [
    "2.Eksploracja zbioru dancy"
   ]
  },
  {
   "cell_type": "code",
   "execution_count": 3,
   "id": "7784f41f",
   "metadata": {},
   "outputs": [
    {
     "data": {
      "text/html": [
       "<div>\n",
       "<style scoped>\n",
       "    .dataframe tbody tr th:only-of-type {\n",
       "        vertical-align: middle;\n",
       "    }\n",
       "\n",
       "    .dataframe tbody tr th {\n",
       "        vertical-align: top;\n",
       "    }\n",
       "\n",
       "    .dataframe thead th {\n",
       "        text-align: right;\n",
       "    }\n",
       "</style>\n",
       "<table border=\"1\" class=\"dataframe\">\n",
       "  <thead>\n",
       "    <tr style=\"text-align: right;\">\n",
       "      <th></th>\n",
       "      <th>target</th>\n",
       "      <th>ids</th>\n",
       "      <th>date</th>\n",
       "      <th>flag</th>\n",
       "      <th>user</th>\n",
       "      <th>text</th>\n",
       "    </tr>\n",
       "  </thead>\n",
       "  <tbody>\n",
       "    <tr>\n",
       "      <th>0</th>\n",
       "      <td>0</td>\n",
       "      <td>1467810369</td>\n",
       "      <td>Mon Apr 06 22:19:45 PDT 2009</td>\n",
       "      <td>NO_QUERY</td>\n",
       "      <td>_TheSpecialOne_</td>\n",
       "      <td>@switchfoot http://twitpic.com/2y1zl - Awww, t...</td>\n",
       "    </tr>\n",
       "    <tr>\n",
       "      <th>1</th>\n",
       "      <td>0</td>\n",
       "      <td>1467810672</td>\n",
       "      <td>Mon Apr 06 22:19:49 PDT 2009</td>\n",
       "      <td>NO_QUERY</td>\n",
       "      <td>scotthamilton</td>\n",
       "      <td>is upset that he can't update his Facebook by ...</td>\n",
       "    </tr>\n",
       "    <tr>\n",
       "      <th>2</th>\n",
       "      <td>0</td>\n",
       "      <td>1467810917</td>\n",
       "      <td>Mon Apr 06 22:19:53 PDT 2009</td>\n",
       "      <td>NO_QUERY</td>\n",
       "      <td>mattycus</td>\n",
       "      <td>@Kenichan I dived many times for the ball. Man...</td>\n",
       "    </tr>\n",
       "    <tr>\n",
       "      <th>3</th>\n",
       "      <td>0</td>\n",
       "      <td>1467811184</td>\n",
       "      <td>Mon Apr 06 22:19:57 PDT 2009</td>\n",
       "      <td>NO_QUERY</td>\n",
       "      <td>ElleCTF</td>\n",
       "      <td>my whole body feels itchy and like its on fire</td>\n",
       "    </tr>\n",
       "    <tr>\n",
       "      <th>4</th>\n",
       "      <td>0</td>\n",
       "      <td>1467811193</td>\n",
       "      <td>Mon Apr 06 22:19:57 PDT 2009</td>\n",
       "      <td>NO_QUERY</td>\n",
       "      <td>Karoli</td>\n",
       "      <td>@nationwideclass no, it's not behaving at all....</td>\n",
       "    </tr>\n",
       "  </tbody>\n",
       "</table>\n",
       "</div>"
      ],
      "text/plain": [
       "   target         ids                          date      flag  \\\n",
       "0       0  1467810369  Mon Apr 06 22:19:45 PDT 2009  NO_QUERY   \n",
       "1       0  1467810672  Mon Apr 06 22:19:49 PDT 2009  NO_QUERY   \n",
       "2       0  1467810917  Mon Apr 06 22:19:53 PDT 2009  NO_QUERY   \n",
       "3       0  1467811184  Mon Apr 06 22:19:57 PDT 2009  NO_QUERY   \n",
       "4       0  1467811193  Mon Apr 06 22:19:57 PDT 2009  NO_QUERY   \n",
       "\n",
       "              user                                               text  \n",
       "0  _TheSpecialOne_  @switchfoot http://twitpic.com/2y1zl - Awww, t...  \n",
       "1    scotthamilton  is upset that he can't update his Facebook by ...  \n",
       "2         mattycus  @Kenichan I dived many times for the ball. Man...  \n",
       "3          ElleCTF    my whole body feels itchy and like its on fire   \n",
       "4           Karoli  @nationwideclass no, it's not behaving at all....  "
      ]
     },
     "execution_count": 3,
     "metadata": {},
     "output_type": "execute_result"
    }
   ],
   "source": [
    "df.head()"
   ]
  },
  {
   "cell_type": "markdown",
   "id": "15a1b42e",
   "metadata": {},
   "source": [
    "2.1  Widać brak pustych wartości. Nie ma potrzeby ich usuwania"
   ]
  },
  {
   "cell_type": "code",
   "execution_count": 4,
   "id": "8668abf8",
   "metadata": {},
   "outputs": [
    {
     "name": "stdout",
     "output_type": "stream",
     "text": [
      "<class 'pandas.core.frame.DataFrame'>\n",
      "RangeIndex: 1600000 entries, 0 to 1599999\n",
      "Data columns (total 6 columns):\n",
      " #   Column  Non-Null Count    Dtype \n",
      "---  ------  --------------    ----- \n",
      " 0   target  1600000 non-null  int64 \n",
      " 1   ids     1600000 non-null  int64 \n",
      " 2   date    1600000 non-null  object\n",
      " 3   flag    1600000 non-null  object\n",
      " 4   user    1600000 non-null  object\n",
      " 5   text    1600000 non-null  object\n",
      "dtypes: int64(2), object(4)\n",
      "memory usage: 73.2+ MB\n"
     ]
    }
   ],
   "source": [
    "df. info()"
   ]
  },
  {
   "cell_type": "markdown",
   "id": "59a5304c",
   "metadata": {},
   "source": [
    "2.2 Weyfikacja flagi target, która odpowiada za sentyment"
   ]
  },
  {
   "cell_type": "code",
   "execution_count": 5,
   "id": "36abe066",
   "metadata": {},
   "outputs": [
    {
     "data": {
      "text/plain": [
       "target\n",
       "0    800000\n",
       "4    800000\n",
       "Name: count, dtype: int64"
      ]
     },
     "execution_count": 5,
     "metadata": {},
     "output_type": "execute_result"
    }
   ],
   "source": [
    "df.value_counts('target')\n",
    "#Są tylko dwa rodzaje sentymentu. 0 - negatywny, 4 - pozytywny. To będą nasze klasy"
   ]
  },
  {
   "cell_type": "markdown",
   "id": "ec6f8880",
   "metadata": {},
   "source": [
    "3.Przygotowanie danych do modelowania"
   ]
  },
  {
   "cell_type": "markdown",
   "id": "fb2b300f",
   "metadata": {},
   "source": [
    "3.1 Usnięcie zbędnych kolumn"
   ]
  },
  {
   "cell_type": "code",
   "execution_count": 6,
   "id": "3e7b6233",
   "metadata": {},
   "outputs": [],
   "source": [
    "df = df.drop([\"ids\",\"date\",\"flag\",\"user\"], axis = 1)"
   ]
  },
  {
   "cell_type": "markdown",
   "id": "30a36aa2",
   "metadata": {},
   "source": [
    "3.2. Usunięcie duplikatów. Widać, że nie było żadnych duplikatów, bo nic się nie usuneło"
   ]
  },
  {
   "cell_type": "code",
   "execution_count": 7,
   "id": "c844ca62",
   "metadata": {},
   "outputs": [
    {
     "name": "stdout",
     "output_type": "stream",
     "text": [
      "<class 'pandas.core.frame.DataFrame'>\n",
      "RangeIndex: 1600000 entries, 0 to 1599999\n",
      "Data columns (total 2 columns):\n",
      " #   Column  Non-Null Count    Dtype \n",
      "---  ------  --------------    ----- \n",
      " 0   target  1600000 non-null  int64 \n",
      " 1   text    1600000 non-null  object\n",
      "dtypes: int64(1), object(1)\n",
      "memory usage: 24.4+ MB\n"
     ]
    }
   ],
   "source": [
    "df.drop_duplicates()\n",
    "df.info() "
   ]
  },
  {
   "cell_type": "markdown",
   "id": "fd45674f",
   "metadata": {},
   "source": [
    "3.3 Podział na zbiór treningowy i testowy"
   ]
  },
  {
   "cell_type": "code",
   "execution_count": 8,
   "id": "1838a0d7",
   "metadata": {},
   "outputs": [],
   "source": [
    "import numpy as np\n",
    "from sklearn.model_selection import train_test_split\n",
    "\n",
    "\n",
    "train_df, test_df = train_test_split(df, test_size=0.3)"
   ]
  },
  {
   "cell_type": "code",
   "execution_count": 9,
   "id": "c3a2f986",
   "metadata": {},
   "outputs": [
    {
     "data": {
      "text/html": [
       "<div>\n",
       "<style scoped>\n",
       "    .dataframe tbody tr th:only-of-type {\n",
       "        vertical-align: middle;\n",
       "    }\n",
       "\n",
       "    .dataframe tbody tr th {\n",
       "        vertical-align: top;\n",
       "    }\n",
       "\n",
       "    .dataframe thead th {\n",
       "        text-align: right;\n",
       "    }\n",
       "</style>\n",
       "<table border=\"1\" class=\"dataframe\">\n",
       "  <thead>\n",
       "    <tr style=\"text-align: right;\">\n",
       "      <th></th>\n",
       "      <th>target</th>\n",
       "      <th>text</th>\n",
       "    </tr>\n",
       "  </thead>\n",
       "  <tbody>\n",
       "    <tr>\n",
       "      <th>0</th>\n",
       "      <td>4</td>\n",
       "      <td>sushi with@tjmtrippinru  favorite!!</td>\n",
       "    </tr>\n",
       "    <tr>\n",
       "      <th>1</th>\n",
       "      <td>4</td>\n",
       "      <td>@jvaquino Get 100 followers a day using www.tw...</td>\n",
       "    </tr>\n",
       "    <tr>\n",
       "      <th>2</th>\n",
       "      <td>4</td>\n",
       "      <td>Trying twitteriffic now looks better for some ...</td>\n",
       "    </tr>\n",
       "    <tr>\n",
       "      <th>3</th>\n",
       "      <td>4</td>\n",
       "      <td>Layin it down. Coolin off to @DreNorris beat  ...</td>\n",
       "    </tr>\n",
       "    <tr>\n",
       "      <th>4</th>\n",
       "      <td>4</td>\n",
       "      <td>@farahanggun Great, Havin a rockin time</td>\n",
       "    </tr>\n",
       "    <tr>\n",
       "      <th>...</th>\n",
       "      <td>...</td>\n",
       "      <td>...</td>\n",
       "    </tr>\n",
       "    <tr>\n",
       "      <th>1119995</th>\n",
       "      <td>0</td>\n",
       "      <td>13 minutes and counting! Ahhhhhh I'm freaking ...</td>\n",
       "    </tr>\n",
       "    <tr>\n",
       "      <th>1119996</th>\n",
       "      <td>4</td>\n",
       "      <td>@blakefierce &amp;amp;&amp;amp; @ohhellonay let's go a...</td>\n",
       "    </tr>\n",
       "    <tr>\n",
       "      <th>1119997</th>\n",
       "      <td>4</td>\n",
       "      <td>I'm too much of a twitter lurk to use this. I ...</td>\n",
       "    </tr>\n",
       "    <tr>\n",
       "      <th>1119998</th>\n",
       "      <td>0</td>\n",
       "      <td>@BillyScallywag Yeah I should really...scares ...</td>\n",
       "    </tr>\n",
       "    <tr>\n",
       "      <th>1119999</th>\n",
       "      <td>4</td>\n",
       "      <td>@taralaylove bahahaha. yeah. wow i can just pi...</td>\n",
       "    </tr>\n",
       "  </tbody>\n",
       "</table>\n",
       "<p>1120000 rows × 2 columns</p>\n",
       "</div>"
      ],
      "text/plain": [
       "         target                                               text\n",
       "0             4                sushi with@tjmtrippinru  favorite!!\n",
       "1             4  @jvaquino Get 100 followers a day using www.tw...\n",
       "2             4  Trying twitteriffic now looks better for some ...\n",
       "3             4  Layin it down. Coolin off to @DreNorris beat  ...\n",
       "4             4           @farahanggun Great, Havin a rockin time \n",
       "...         ...                                                ...\n",
       "1119995       0  13 minutes and counting! Ahhhhhh I'm freaking ...\n",
       "1119996       4  @blakefierce &amp;&amp; @ohhellonay let's go a...\n",
       "1119997       4  I'm too much of a twitter lurk to use this. I ...\n",
       "1119998       0  @BillyScallywag Yeah I should really...scares ...\n",
       "1119999       4  @taralaylove bahahaha. yeah. wow i can just pi...\n",
       "\n",
       "[1120000 rows x 2 columns]"
      ]
     },
     "execution_count": 9,
     "metadata": {},
     "output_type": "execute_result"
    }
   ],
   "source": [
    "train_df.reset_index(drop=True)"
   ]
  },
  {
   "cell_type": "code",
   "execution_count": 10,
   "id": "ba19a9e7",
   "metadata": {},
   "outputs": [
    {
     "name": "stdout",
     "output_type": "stream",
     "text": [
      "<class 'pandas.core.frame.DataFrame'>\n",
      "Int64Index: 1120000 entries, 1430621 to 1509873\n",
      "Data columns (total 2 columns):\n",
      " #   Column  Non-Null Count    Dtype \n",
      "---  ------  --------------    ----- \n",
      " 0   target  1120000 non-null  int64 \n",
      " 1   text    1120000 non-null  object\n",
      "dtypes: int64(1), object(1)\n",
      "memory usage: 25.6+ MB\n"
     ]
    }
   ],
   "source": [
    "train_df.info() "
   ]
  },
  {
   "cell_type": "code",
   "execution_count": 11,
   "id": "85f4d6c4",
   "metadata": {},
   "outputs": [
    {
     "data": {
      "text/html": [
       "<div>\n",
       "<style scoped>\n",
       "    .dataframe tbody tr th:only-of-type {\n",
       "        vertical-align: middle;\n",
       "    }\n",
       "\n",
       "    .dataframe tbody tr th {\n",
       "        vertical-align: top;\n",
       "    }\n",
       "\n",
       "    .dataframe thead th {\n",
       "        text-align: right;\n",
       "    }\n",
       "</style>\n",
       "<table border=\"1\" class=\"dataframe\">\n",
       "  <thead>\n",
       "    <tr style=\"text-align: right;\">\n",
       "      <th></th>\n",
       "      <th>target</th>\n",
       "      <th>text</th>\n",
       "    </tr>\n",
       "  </thead>\n",
       "  <tbody>\n",
       "    <tr>\n",
       "      <th>0</th>\n",
       "      <td>0</td>\n",
       "      <td>Wishing we had more time to explore Seattle, a...</td>\n",
       "    </tr>\n",
       "    <tr>\n",
       "      <th>1</th>\n",
       "      <td>0</td>\n",
       "      <td>#dontyouhate living in the same town as bitche...</td>\n",
       "    </tr>\n",
       "    <tr>\n",
       "      <th>2</th>\n",
       "      <td>4</td>\n",
       "      <td>@teflclips Better than being born an English t...</td>\n",
       "    </tr>\n",
       "    <tr>\n",
       "      <th>3</th>\n",
       "      <td>0</td>\n",
       "      <td>@sleepycatt Oh no, what's happened?</td>\n",
       "    </tr>\n",
       "    <tr>\n",
       "      <th>4</th>\n",
       "      <td>0</td>\n",
       "      <td>oh man. things look bleak in iran   #iranelection</td>\n",
       "    </tr>\n",
       "    <tr>\n",
       "      <th>...</th>\n",
       "      <td>...</td>\n",
       "      <td>...</td>\n",
       "    </tr>\n",
       "    <tr>\n",
       "      <th>479995</th>\n",
       "      <td>4</td>\n",
       "      <td>sitting on the couch at home</td>\n",
       "    </tr>\n",
       "    <tr>\n",
       "      <th>479996</th>\n",
       "      <td>0</td>\n",
       "      <td>goin to bedddd, i don't feel well</td>\n",
       "    </tr>\n",
       "    <tr>\n",
       "      <th>479997</th>\n",
       "      <td>4</td>\n",
       "      <td>@antnzdotcom awesome isnt the word.</td>\n",
       "    </tr>\n",
       "    <tr>\n",
       "      <th>479998</th>\n",
       "      <td>4</td>\n",
       "      <td>@Kdecherf euh Safari Beta, Firefox Beta</td>\n",
       "    </tr>\n",
       "    <tr>\n",
       "      <th>479999</th>\n",
       "      <td>0</td>\n",
       "      <td>16 days on the trot.. Just want a lie in</td>\n",
       "    </tr>\n",
       "  </tbody>\n",
       "</table>\n",
       "<p>480000 rows × 2 columns</p>\n",
       "</div>"
      ],
      "text/plain": [
       "        target                                               text\n",
       "0            0  Wishing we had more time to explore Seattle, a...\n",
       "1            0  #dontyouhate living in the same town as bitche...\n",
       "2            4  @teflclips Better than being born an English t...\n",
       "3            0               @sleepycatt Oh no, what's happened? \n",
       "4            0  oh man. things look bleak in iran   #iranelection\n",
       "...        ...                                                ...\n",
       "479995       4                      sitting on the couch at home \n",
       "479996       0                 goin to bedddd, i don't feel well \n",
       "479997       4               @antnzdotcom awesome isnt the word. \n",
       "479998       4           @Kdecherf euh Safari Beta, Firefox Beta \n",
       "479999       0          16 days on the trot.. Just want a lie in \n",
       "\n",
       "[480000 rows x 2 columns]"
      ]
     },
     "execution_count": 11,
     "metadata": {},
     "output_type": "execute_result"
    }
   ],
   "source": [
    "test_df.reset_index(drop=True)"
   ]
  },
  {
   "cell_type": "code",
   "execution_count": null,
   "id": "01997d9a",
   "metadata": {},
   "outputs": [],
   "source": [
    "test_df.info() "
   ]
  }
 ],
 "metadata": {
  "kernelspec": {
   "display_name": "Python 3",
   "language": "python",
   "name": "python3"
  },
  "language_info": {
   "codemirror_mode": {
    "name": "ipython",
    "version": 3
   },
   "file_extension": ".py",
   "mimetype": "text/x-python",
   "name": "python",
   "nbconvert_exporter": "python",
   "pygments_lexer": "ipython3",
   "version": "3.12.1"
  }
 },
 "nbformat": 4,
 "nbformat_minor": 5
}
